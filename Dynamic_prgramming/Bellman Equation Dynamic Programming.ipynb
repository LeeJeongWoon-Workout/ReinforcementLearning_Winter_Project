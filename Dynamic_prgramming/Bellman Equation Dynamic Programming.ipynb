{
 "cells": [
  {
   "cell_type": "code",
   "execution_count": 62,
   "id": "452f41c8",
   "metadata": {},
   "outputs": [],
   "source": [
    "import sys; sys.path.append('..') # add project root to the python path\n",
    "import numpy as np\n",
    "import pandas as pd\n",
    "import matplotlib.pyplot as plt\n",
    "\n",
    "from src.part2.tensorized_dp import TensorDP\n",
    "from src.common.gridworld import GridworldEnv\n",
    "from src.common.grid_visualization import visualize_value_function, visualize_policy\n",
    "\n",
    "np.random.seed(0)"
   ]
  },
  {
   "cell_type": "code",
   "execution_count": 74,
   "id": "14e30de0",
   "metadata": {},
   "outputs": [],
   "source": [
    "nx=3\n",
    "ny=3\n",
    "env=GridworldEnv([ny,nx])\n",
    "#3X3 격자 구조 세계 구축"
   ]
  },
  {
   "cell_type": "markdown",
   "id": "909f7920",
   "metadata": {},
   "source": [
    "## 동적계획법 '에이전트' 초기화하기\n",
    "\n",
    "동적 게획법은 원래 `에이전트`라는 개념을 사용하지 않지만, 일반적으로 사용되는 강화학습의 구현 템플릿에 대한 이해를 돕기 위해 `에이전트`라는 개념을 적용하였습니다.\n",
    "\n",
    "```python\n",
    "class TensorDP:\n",
    "    \n",
    "    def __init__(self,\n",
    "                 gamma=1.0,\n",
    "                 error_tol=1e-5):\n",
    "        ...\n",
    "        \n",
    "```\n",
    "\n",
    "`TensorDP` 클래스는 2개의 파라미터를 받습니다. \n",
    "감소율 `gamma` 와 가치평가/반복 알고리즘에서 수렴조건을 확인할 때 사용하는 수치적 에러의 허용치인 `error_tol` 입니다. 이 예제에서는 각각 `1.0` 과 `1e-5`로 설정하겠습니다."
   ]
  },
  {
   "cell_type": "code",
   "execution_count": 76,
   "id": "cd360b6b",
   "metadata": {},
   "outputs": [],
   "source": [
    "dp_agent=TensorDP()\n",
    "#agent 정의"
   ]
  },
  {
   "cell_type": "markdown",
   "id": "44a18255",
   "metadata": {},
   "source": [
    "### DP agent에게 환경을 설정봅시다!\n",
    "\n",
    "```python\n",
    "def set_env(self, env, policy=None):\n",
    "        self.env = env\n",
    "        if policy is None:\n",
    "            self.policy = np.ones([env.nS, env.nA]) / env.nA\n",
    "\n",
    "        self.ns = env.nS\n",
    "        self.na = env.nA\n",
    "        self.P = env.P_tensor  # Rank 3 tensor [num. actions x num. states x num. states]\n",
    "        self.R = env.R_tensor  # Rank 2 tensor [num. actions x num. states]\n",
    "\n",
    "        print(\"Tensor DP agent initialized\")\n",
    "        print(\"Environment spec:  Num. state = {} | Num. actions = {} \".format(env.nS, env.nA))\n",
    "```"
   ]
  },
  {
   "cell_type": "code",
   "execution_count": 77,
   "id": "370cb605",
   "metadata": {},
   "outputs": [
    {
     "name": "stdout",
     "output_type": "stream",
     "text": [
      "Tensor DP agent initialized\n",
      "Environment spec:  Num. state = 9 | Num. actions = 4 \n"
     ]
    }
   ],
   "source": [
    "dp_agent.set_env(env)"
   ]
  },
  {
   "cell_type": "markdown",
   "id": "56785830",
   "metadata": {},
   "source": [
    "### $R^{\\pi}$ 효율적으로 계산하기\n",
    "\n",
    "MDP 강의에서 이야기했던대로, $R^{\\pi}$ 는 다음과 같이 정의 됩니다.\n",
    "\n",
    "$$R^{\\pi}_s = \\sum_{a \\in \\cal{A}} \\pi(a|s) R_s^a $$\n",
    "\n",
    "각 $R^{\\pi}$의 각 원소 $R^{\\pi}_s$ 위의 수식으로 정의되고 $R^{\\pi}$ 은 모든 상태 $s$ 의 $R^{\\pi}_s$를 열 벡터로 표현한 형태가 됩니다. $R^{\\pi} \\in \\mathbb{R}^{|\\cal{S}|}$. \n",
    "\n",
    "> 예제에서는 구현의 편의를 위해 열 벡터 (Rank1 텐서)에 하나의 축을 더하여 $R^{\\pi} \\in \\mathbb{R}^{|\\cal{S}|\\times 1}$ 으로 표현하였습니다.\n",
    "\n",
    "#### Numpy 를 활용해 위의 수식을 구현\n",
    "\n",
    "```python\n",
    "def get_r_pi(self, policy):\n",
    "    r_pi = (policy * self.R).sum(axis=-1)  # [num. states x 1]\n",
    "    return r_pi\n",
    "```"
   ]
  },
  {
   "cell_type": "code",
   "execution_count": 78,
   "id": "d3326c00",
   "metadata": {},
   "outputs": [
    {
     "data": {
      "text/html": [
       "<div>\n",
       "<style scoped>\n",
       "    .dataframe tbody tr th:only-of-type {\n",
       "        vertical-align: middle;\n",
       "    }\n",
       "\n",
       "    .dataframe tbody tr th {\n",
       "        vertical-align: top;\n",
       "    }\n",
       "\n",
       "    .dataframe thead th {\n",
       "        text-align: right;\n",
       "    }\n",
       "</style>\n",
       "<table border=\"1\" class=\"dataframe\">\n",
       "  <thead>\n",
       "    <tr style=\"text-align: right;\">\n",
       "      <th></th>\n",
       "      <th>0</th>\n",
       "      <th>1</th>\n",
       "      <th>2</th>\n",
       "      <th>3</th>\n",
       "      <th>4</th>\n",
       "      <th>5</th>\n",
       "      <th>6</th>\n",
       "      <th>7</th>\n",
       "      <th>8</th>\n",
       "    </tr>\n",
       "  </thead>\n",
       "  <tbody>\n",
       "    <tr>\n",
       "      <th>0</th>\n",
       "      <td>1.00</td>\n",
       "      <td>0.00</td>\n",
       "      <td>0.00</td>\n",
       "      <td>0.00</td>\n",
       "      <td>0.00</td>\n",
       "      <td>0.00</td>\n",
       "      <td>0.00</td>\n",
       "      <td>0.00</td>\n",
       "      <td>0.00</td>\n",
       "    </tr>\n",
       "    <tr>\n",
       "      <th>1</th>\n",
       "      <td>0.25</td>\n",
       "      <td>0.25</td>\n",
       "      <td>0.25</td>\n",
       "      <td>0.00</td>\n",
       "      <td>0.25</td>\n",
       "      <td>0.00</td>\n",
       "      <td>0.00</td>\n",
       "      <td>0.00</td>\n",
       "      <td>0.00</td>\n",
       "    </tr>\n",
       "    <tr>\n",
       "      <th>2</th>\n",
       "      <td>0.00</td>\n",
       "      <td>0.25</td>\n",
       "      <td>0.50</td>\n",
       "      <td>0.00</td>\n",
       "      <td>0.00</td>\n",
       "      <td>0.25</td>\n",
       "      <td>0.00</td>\n",
       "      <td>0.00</td>\n",
       "      <td>0.00</td>\n",
       "    </tr>\n",
       "    <tr>\n",
       "      <th>3</th>\n",
       "      <td>0.25</td>\n",
       "      <td>0.00</td>\n",
       "      <td>0.00</td>\n",
       "      <td>0.25</td>\n",
       "      <td>0.25</td>\n",
       "      <td>0.00</td>\n",
       "      <td>0.25</td>\n",
       "      <td>0.00</td>\n",
       "      <td>0.00</td>\n",
       "    </tr>\n",
       "    <tr>\n",
       "      <th>4</th>\n",
       "      <td>0.00</td>\n",
       "      <td>0.25</td>\n",
       "      <td>0.00</td>\n",
       "      <td>0.25</td>\n",
       "      <td>0.00</td>\n",
       "      <td>0.25</td>\n",
       "      <td>0.00</td>\n",
       "      <td>0.25</td>\n",
       "      <td>0.00</td>\n",
       "    </tr>\n",
       "    <tr>\n",
       "      <th>5</th>\n",
       "      <td>0.00</td>\n",
       "      <td>0.00</td>\n",
       "      <td>0.25</td>\n",
       "      <td>0.00</td>\n",
       "      <td>0.25</td>\n",
       "      <td>0.25</td>\n",
       "      <td>0.00</td>\n",
       "      <td>0.00</td>\n",
       "      <td>0.25</td>\n",
       "    </tr>\n",
       "    <tr>\n",
       "      <th>6</th>\n",
       "      <td>0.00</td>\n",
       "      <td>0.00</td>\n",
       "      <td>0.00</td>\n",
       "      <td>0.25</td>\n",
       "      <td>0.00</td>\n",
       "      <td>0.00</td>\n",
       "      <td>0.50</td>\n",
       "      <td>0.25</td>\n",
       "      <td>0.00</td>\n",
       "    </tr>\n",
       "    <tr>\n",
       "      <th>7</th>\n",
       "      <td>0.00</td>\n",
       "      <td>0.00</td>\n",
       "      <td>0.00</td>\n",
       "      <td>0.00</td>\n",
       "      <td>0.25</td>\n",
       "      <td>0.00</td>\n",
       "      <td>0.25</td>\n",
       "      <td>0.25</td>\n",
       "      <td>0.25</td>\n",
       "    </tr>\n",
       "    <tr>\n",
       "      <th>8</th>\n",
       "      <td>0.00</td>\n",
       "      <td>0.00</td>\n",
       "      <td>0.00</td>\n",
       "      <td>0.00</td>\n",
       "      <td>0.00</td>\n",
       "      <td>0.00</td>\n",
       "      <td>0.00</td>\n",
       "      <td>0.00</td>\n",
       "      <td>1.00</td>\n",
       "    </tr>\n",
       "  </tbody>\n",
       "</table>\n",
       "</div>"
      ],
      "text/plain": [
       "      0     1     2     3     4     5     6     7     8\n",
       "0  1.00  0.00  0.00  0.00  0.00  0.00  0.00  0.00  0.00\n",
       "1  0.25  0.25  0.25  0.00  0.25  0.00  0.00  0.00  0.00\n",
       "2  0.00  0.25  0.50  0.00  0.00  0.25  0.00  0.00  0.00\n",
       "3  0.25  0.00  0.00  0.25  0.25  0.00  0.25  0.00  0.00\n",
       "4  0.00  0.25  0.00  0.25  0.00  0.25  0.00  0.25  0.00\n",
       "5  0.00  0.00  0.25  0.00  0.25  0.25  0.00  0.00  0.25\n",
       "6  0.00  0.00  0.00  0.25  0.00  0.00  0.50  0.25  0.00\n",
       "7  0.00  0.00  0.00  0.00  0.25  0.00  0.25  0.25  0.25\n",
       "8  0.00  0.00  0.00  0.00  0.00  0.00  0.00  0.00  1.00"
      ]
     },
     "execution_count": 78,
     "metadata": {},
     "output_type": "execute_result"
    }
   ],
   "source": [
    "df = pd.DataFrame(dp_agent.get_p_pi(dp_agent.policy))\n",
    "df"
   ]
  },
  {
   "cell_type": "markdown",
   "id": "729f014d",
   "metadata": {},
   "source": [
    "### $P^{\\pi}$ 효율적으로 계산하기\n",
    "\n",
    "$P^{\\pi}$ 는 다음과 같이 정의 됩니다.\n",
    "\n",
    "$$P^{\\pi}_{ss'} = \\sum_{a \\in \\cal{A}} \\pi(a|s) P_{ss'}^a $$\n",
    "\n",
    "각 $P^{\\pi}_{ss'}$는 상태천이 행렬 (이번에는 정말 행렬입니다!) 의 $s$번째 열(row) $s'$번째 행(column)의 원소입니다. 따라서 $P^{\\pi} \\in \\mathbb{R}^{|\\cal{S}|\\times|\\cal{S}|}$는 행렬입니다.\n",
    "위의 수식을 도식화해서 표현하면 다음과 같은 그림이 됩니다.\n",
    "\n",
    "<img src=\"./images/tensorized_p_computation.png\" width=\"80%\" height=\"50%\" title=\"px(픽셀) 크기 설정\" alt=\"Tensor\"></img>\n",
    "\n",
    "눈치가 좋으신분들은 (그래서 여러분들은) 아마도 이 연산이 기존의 매트릭스 곱하기 및 원소별 곱하기 (element-wise product, aka, Hadamard product) 등으로는 표현하기에 까다롭다는것을 알아채셨으리라 생각합니다. 이런 경우에 사용할수 있는 텐서연산 기법이 있습니다.\n",
    "\n",
    "`아인슈타인 합`을 활용하면 우리가 원하는 연산을 간단하게 1줄로 표현할 수 있습니다.\n",
    "`아인슈타인 합` 대부분의 텐서연산 라이브러리에서 __똑같은 문법으로__ 사용할수 있게 구현되어있습니다.\n",
    "즉, 여러분이 `numpy`에서 아인슈타인 합으로 표현한 수식은 `pytorch`에서도 동일하게 사용할 수 있다는 이점이있습니다. 또한 `아인슈타인 합` 또한 매우 최적화된 방법으로 실행됩니다. 여러분들이 차후에 자신만의 알고리즘을 만들때도 `아인슈타인 합`으로 연산을 정의할 수 있다면, 꼭 한번 아인슈타인 합으로 표현해보도록 하세요.\n",
    "\n",
    "```python\n",
    "def get_p_pi(self, policy):\n",
    "    p_pi = np.einsum(\"na,anm->nm\", policy, self.P)  # [num. states x num. states]\n",
    "    return p_pi\n",
    "```"
   ]
  },
  {
   "cell_type": "code",
   "execution_count": 81,
   "id": "3ae65e6c",
   "metadata": {},
   "outputs": [
    {
     "name": "stdout",
     "output_type": "stream",
     "text": [
      "===== 정책함수 스펙 =====\n",
      "state dimension: 9\n",
      "action dimension: 4 \n",
      "\n",
      "===== 정책함수 =====\n",
      "[[0.25 0.25 0.25 0.25]\n",
      " [0.25 0.25 0.25 0.25]\n",
      " [0.25 0.25 0.25 0.25]\n",
      " [0.25 0.25 0.25 0.25]\n",
      " [0.25 0.25 0.25 0.25]\n",
      " [0.25 0.25 0.25 0.25]\n",
      " [0.25 0.25 0.25 0.25]\n",
      " [0.25 0.25 0.25 0.25]\n",
      " [0.25 0.25 0.25 0.25]]\n"
     ]
    }
   ],
   "source": [
    "policy_state_dim = dp_agent.policy.shape[0]\n",
    "policy_action_dim = dp_agent.policy.shape[1]\n",
    "print(\"===== 정책함수 스펙 =====\")\n",
    "print(\"state dimension: {}\".format(policy_state_dim))\n",
    "print(\"action dimension: {} \\n\".format(policy_action_dim))\n",
    "\n",
    "print(\"===== 정책함수 =====\")\n",
    "print(dp_agent.policy)"
   ]
  },
  {
   "cell_type": "markdown",
   "id": "eca0cab2",
   "metadata": {},
   "source": [
    "## 드디어 정책 평가 알고리즘!\n",
    "\n",
    "```python\n",
    "def policy_evaluation(self, policy=None, v_init=None):\n",
    "    \"\"\"\n",
    "    :param policy: policy to evaluate (optional)\n",
    "    :param v_init: initial value 'guesstimation' (optional)\n",
    "    :return: v_pi: value function of the input policy\n",
    "    \"\"\"\n",
    "    if policy is None:\n",
    "        policy = self.policy\n",
    "\n",
    "    r_pi = self.get_r_pi(policy)  # [num. states x 1]\n",
    "    p_pi = self.get_p_pi(policy)  # [num. states x num. states]\n",
    "\n",
    "    if v_init is None:\n",
    "        v_old = np.zeros(self.ns)\n",
    "    else:\n",
    "        v_old = v_init\n",
    "\n",
    "    while True:\n",
    "        # perform Bellman expectation backup\n",
    "        v_new = r_pi + self.gamma * np.matmul(p_pi, v_old)\n",
    "\n",
    "        # check convergence\n",
    "        bellman_error = np.linalg.norm(v_new - v_old)\n",
    "        if bellman_error <= self.error_tol:\n",
    "            break\n",
    "        else:\n",
    "            v_old = v_new\n",
    "    return v_new\n",
    "```"
   ]
  },
  {
   "cell_type": "code",
   "execution_count": 68,
   "id": "6d3aaf3b",
   "metadata": {},
   "outputs": [
    {
     "data": {
      "image/png": "[encoded data removed]",
      "text/plain": [
       "<Figure size 864x432 with 3 Axes>"
      ]
     },
     "metadata": {},
     "output_type": "display_data"
    }
   ],
   "source": [
    "v_pi = dp_agent.policy_evaluation()\n",
    "fig, ax = plt.subplots(1,2, figsize=(12,6))\n",
    "visualize_value_function(ax[0], v_pi, nx, ny)\n",
    "_ = ax[0].set_title(\"Value pi\")\n",
    "visualize_policy(ax[1], dp_agent.policy, nx, ny)\n",
    "_ = ax[1].set_title(\"Policy\")\n",
    "v_old = v_pi # 정책 개선 정리에 대해 설명할때 사용"
   ]
  },
  {
   "cell_type": "code",
   "execution_count": 69,
   "id": "ce5458aa",
   "metadata": {},
   "outputs": [],
   "source": [
    "p_new = dp_agent.policy_improvement()\n",
    "dp_agent.set_policy(p_new) # DP agent 의 정책을 개선된 정책 `p_new`로 설정"
   ]
  },
  {
   "cell_type": "code",
   "execution_count": 80,
   "id": "a6a78435",
   "metadata": {},
   "outputs": [
    {
     "name": "stdout",
     "output_type": "stream",
     "text": [
      "===== 정책함수 스펙 =====\n",
      "state dimension: 9\n",
      "action dimension: 4 \n",
      "\n",
      "===== 정책함수 =====\n",
      "[[0.25 0.25 0.25 0.25]\n",
      " [0.25 0.25 0.25 0.25]\n",
      " [0.25 0.25 0.25 0.25]\n",
      " [0.25 0.25 0.25 0.25]\n",
      " [0.25 0.25 0.25 0.25]\n",
      " [0.25 0.25 0.25 0.25]\n",
      " [0.25 0.25 0.25 0.25]\n",
      " [0.25 0.25 0.25 0.25]\n",
      " [0.25 0.25 0.25 0.25]]\n"
     ]
    }
   ],
   "source": [
    "policy_state_dim = dp_agent.policy.shape[0]\n",
    "policy_action_dim = dp_agent.policy.shape[1]\n",
    "print(\"===== 정책함수 스펙 =====\")\n",
    "print(\"state dimension: {}\".format(policy_state_dim))\n",
    "print(\"action dimension: {} \\n\".format(policy_action_dim))\n",
    "\n",
    "print(\"===== 정책함수 =====\")\n",
    "print(dp_agent.policy)"
   ]
  },
  {
   "cell_type": "markdown",
   "id": "6444f3a9",
   "metadata": {},
   "source": [
    "## \"내 정책은 조금 전의 정책보다 개선된다!\" 정책 개선\n",
    "\n",
    "`policy_improvement()` 를 활용해 greedy policy improvement 를 수행합니다.\n",
    "\n",
    "> Greedy 정책개선\n",
    "> 1. $V^{\\pi}(s)$ 와 $P$, $R$ 를 이용해 $Q^{\\pi}(s,a)$ 를 계산한다. <br>\n",
    "$$Q^\\pi(s,a) = R_s^{a} + \\gamma \\Sigma_{s' \\in \\cal{S}}P_{ss'}^aV^{\\pi}(s')$$\n",
    "\n",
    "> 2. 개선된 정책 $\\pi'(a|s)$ 을 가장 높은 $Q^{\\pi}(s,a)$ 값을 주는 $a$ 에 대해서 1로 설정.\n",
    "나머지는 0.0\n",
    "\n",
    "파이썬 구현체를 한번 살펴보죠\n",
    "```python\n",
    "    def policy_improvement(self, policy=None, v_pi=None):\n",
    "        if policy is None:\n",
    "            policy = self.policy\n",
    "\n",
    "        if v_pi is None:\n",
    "            v_pi = self.policy_evaluation(policy)\n",
    "\n",
    "        # (1) Compute Q_pi(s,a) from V_pi(s)\n",
    "        r_pi = self.get_r_pi(policy)\n",
    "        q_pi = r_pi + self.P.dot(v_pi)\n",
    "\n",
    "        # (2) Greedy improvement\n",
    "        policy_improved = np.zeros_like(policy)\n",
    "        policy_improved[np.arange(q_pi.shape[1]), q_pi.argmax(axis=0)] = 1\n",
    "        return policy_improved\n",
    "```\n",
    "\n",
    "> `policy_improved = np.zeros_like(policy)`  <br>\n",
    "개선된 정책 $\\pi'$ 는 선택될 action (특정 $s$ 에 대해 가장 큰 $Q(s,a)$를 만족하는 $a$) 이외에는 값이 0 이기 때문에 0으로 초기화 합니다.\n",
    "\n",
    "> `policy_improved[np.arange(q_pi.shape[1]), q_pi.argmax(axis=0)] = 1` <br>\n",
    "특정 $s$에 대해 가장 큰 $Q(s,a)$를 만족하는 $a$ 만을 1.0 으로 설정합니다."
   ]
  },
  {
   "cell_type": "code",
   "execution_count": 71,
   "id": "666101b1",
   "metadata": {},
   "outputs": [
    {
     "data": {
      "image/png": "[encoded data removed]",
      "text/plain": [
       "<Figure size 864x432 with 3 Axes>"
      ]
     },
     "metadata": {},
     "output_type": "display_data"
    }
   ],
   "source": [
    "v_pi = dp_agent.policy_evaluation()\n",
    "fig, ax = plt.subplots(1,2, figsize=(12,6))\n",
    "visualize_value_function(ax[0], v_pi, nx, ny)\n",
    "_ = ax[0].set_title(\"Value pi\")\n",
    "visualize_policy(ax[1], dp_agent.policy, nx, ny)\n",
    "_ = ax[1].set_title(\"Policy\")\n",
    "\n",
    "v_new = v_pi # 개선된 정책에 대한 가치함수"
   ]
  },
  {
   "cell_type": "markdown",
   "id": "74a77af7",
   "metadata": {},
   "source": [
    "## 정책개선 정리 결과 확인해보기\n",
    "\n",
    "__정책개선 정리__ : 정책 개선 정리를 활용해 구해진 $\\pi'$과 개선전 정책 $\\pi$는 다음의 관계를 만족한다.\n",
    "$$\\pi' \\geq \\pi$$\n",
    "\n",
    "$$\\pi' \\geq \\pi \\leftrightarrow V_{\\pi'}(s) \\geq V_{\\pi}(s) \\forall s \\in S$$"
   ]
  },
  {
   "cell_type": "code",
   "execution_count": 83,
   "id": "72791dea",
   "metadata": {},
   "outputs": [],
   "source": [
    "delta_v = v_new - v_old"
   ]
  },
  {
   "cell_type": "code",
   "execution_count": 84,
   "id": "49f68073",
   "metadata": {},
   "outputs": [
    {
     "data": {
      "text/plain": [
       "array([0.        , 5.99997909, 6.99997192, 5.99997909, 5.99997603,\n",
       "       5.99997909, 6.99997192, 5.99997909, 0.        ])"
      ]
     },
     "execution_count": 84,
     "metadata": {},
     "output_type": "execute_result"
    }
   ],
   "source": [
    "delta_v"
   ]
  },
  {
   "cell_type": "code",
   "execution_count": null,
   "id": "879df028",
   "metadata": {},
   "outputs": [],
   "source": []
  },
  {
   "cell_type": "code",
   "execution_count": null,
   "id": "e25f6db3",
   "metadata": {},
   "outputs": [],
   "source": []
  },
  {
   "cell_type": "code",
   "execution_count": null,
   "id": "891089df",
   "metadata": {},
   "outputs": [],
   "source": []
  },
  {
   "cell_type": "code",
   "execution_count": null,
   "id": "308a14e1",
   "metadata": {},
   "outputs": [],
   "source": []
  },
  {
   "cell_type": "code",
   "execution_count": null,
   "id": "1fc96a39",
   "metadata": {},
   "outputs": [],
   "source": []
  },
  {
   "cell_type": "code",
   "execution_count": null,
   "id": "3cd64f0e",
   "metadata": {},
   "outputs": [],
   "source": []
  }
 ],
 "metadata": {
  "kernelspec": {
   "display_name": "Python 3",
   "language": "python",
   "name": "python3"
  },
  "language_info": {
   "codemirror_mode": {
    "name": "ipython",
    "version": 3
   },
   "file_extension": ".py",
   "mimetype": "text/x-python",
   "name": "python",
   "nbconvert_exporter": "python",
   "pygments_lexer": "ipython3",
   "version": "3.8.8"
  }
 },
 "nbformat": 4,
 "nbformat_minor": 5
}
