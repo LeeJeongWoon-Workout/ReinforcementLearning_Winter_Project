{
 "cells": [
  {
   "cell_type": "code",
   "execution_count": 1,
   "id": "02d2a0ab",
   "metadata": {},
   "outputs": [],
   "source": [
    "\n",
    "import gym\n",
    "import random\n",
    "import collections\n",
    "import numpy as np\n",
    "import torch\n",
    "import torch.nn as nn\n",
    "import torch.nn.functional as F\n",
    "import torch.optim as optim"
   ]
  },
  {
   "cell_type": "code",
   "execution_count": 12,
   "id": "1c59656e",
   "metadata": {},
   "outputs": [],
   "source": [
    "#Hyperparameters\n",
    "lr_mu        = 0.0005\n",
    "lr_q         = 0.001\n",
    "gamma        = 0.99\n",
    "batch_size   = 32\n",
    "buffer_limit = 50000\n",
    "tau          = 0.005 # for target network soft update"
   ]
  },
  {
   "cell_type": "markdown",
   "id": "0ecc2fe9",
   "metadata": {},
   "source": [
    "# DDPG 의 핵심\n",
    "\n",
    "1. 데이터를 ReplayBuffer에 집어 넣은 후 random으로 뽑아 학습을 진행함으로써 Correlation을 완화 함\n",
    "\n",
    "2. Deterministic Policy Network\n",
    "\n",
    "3. Q-Network가 이상 Q 함수를 추정해 나가는 과정에서 DQN과 달리 Target Q Target Pi 를 설정함. Target Q 와 Target Pi 는 점진적으로 변한다.\n",
    "\n",
    "4. Noise for exploration"
   ]
  },
  {
   "cell_type": "markdown",
   "id": "8e4b4c16",
   "metadata": {},
   "source": [
    "# ReplayBuffer 구현"
   ]
  },
  {
   "cell_type": "code",
   "execution_count": 11,
   "id": "9fe6ac36",
   "metadata": {},
   "outputs": [],
   "source": [
    "class RelayBuffer():\n",
    "    \n",
    "    def __init__(self):\n",
    "        self.buffer=collections.deque(maxlen=buffer_limit)\n",
    "        \n",
    "    def put(self,transition):\n",
    "        self.buffer.append(transition)\n",
    "        \n",
    "    def sample(self,n):\n",
    "        mini_batch=random.sample(self.buffer,n)\n",
    "        \n",
    "        s_lst,a_lst,r_lst,s_prime_lst,done_mask_lst=[],[],[],[],[]\n",
    "        \n",
    "        for transition in mini_batch:\n",
    "            \n",
    "            s,a,r,s_prime,done=transition\n",
    "            s_lst.append(s)\n",
    "            a_lst.append([a])\n",
    "            r_lst.append([r])\n",
    "            s_prime_lst.append(s_prime)\n",
    "            done=0. if done else 1\n",
    "            done_mask_lst.append([done])\n",
    "            \n",
    "            \n",
    "        s_batch=torch.tensor(s_lst,dtype=torch.float)\n",
    "        a_batch=torch.tensor(a_lst,dtype=torch.float)\n",
    "        r_batch=torch.tensor(r_lst,dtype=torch.float)\n",
    "        s_prime_batch=torch.tensor(s_prime_lst,dtype=torch.float)\n",
    "        done_batch=torch.tensor(done_mask_lst,dtype=torch.float)\n",
    "        \n",
    "        return s_batch,a_batch,r_batch,s_prime_batch,done_batch\n",
    "    \n",
    "    def size(self):\n",
    "        return len(self.buffer)"
   ]
  },
  {
   "cell_type": "markdown",
   "id": "5ec166b0",
   "metadata": {},
   "source": [
    "# Determinstic Policy Network and Q-Net 구현"
   ]
  },
  {
   "cell_type": "code",
   "execution_count": 13,
   "id": "3cd0eccf",
   "metadata": {},
   "outputs": [],
   "source": [
    "class MuNet(nn.Module):\n",
    "    def __init__(self):\n",
    "        super(MuNet,self).__init__()\n",
    "        self.fc1=nn.Linear(3,128)\n",
    "        self.fc2=nn.Linear(128,64)\n",
    "        self.fc_mu=nn.Linear(64,1)\n",
    "        \n",
    "    def forward(self,x):\n",
    "        x=F.relu(self.fc1(x))\n",
    "        x=F.relu(self.fc2(x))\n",
    "        mu=torch.tanh(self.fc_mu(x))*2\n",
    "        \n",
    "        return mu\n",
    "    \n",
    "class QNet(nn.Module):\n",
    "    def __init__(self):\n",
    "        super(QNet,self).__init__()\n",
    "        self.fc_s=nn.Linear(3,64)\n",
    "        self.fc_a=nn.Linear(1,64)\n",
    "        self.fc_q=nn.Linear(128,32)\n",
    "        self.fc_out=nn.Linear(32,1)\n",
    "        \n",
    "    def forward(self,x,a):\n",
    "        h1=F.relu(self.fc_s(x))\n",
    "        h2=F.relu(self.fc_a(a))\n",
    "        cat=torch.cat([h1,h2],dim=1)\n",
    "        q=F.relu(self.fc_q(cat))\n",
    "        q=self.fc_out(q)\n",
    "        return q"
   ]
  },
  {
   "cell_type": "markdown",
   "id": "52b6431b",
   "metadata": {},
   "source": [
    "# Noisy 구현\n",
    "\n",
    "## 목적\n",
    "DDPG 는 Deterministic Policy 를 사용하기 때문에 Exploration이 발생할 가능성이 낮다. 그러므로 잡음을 더함으로써 Exploration을 유도한다.\n",
    "\n",
    "## Ornstein-Uhlenbeck\n",
    "$\\epsilon_{t+1}=\\epsilon+\\alpha(\\mu-\\epsilon_t)\\triangle t + \\sqrt{\\triangle t} \\sigma n_t$\n",
    "\n",
    "$\\mu: mean \\;of \\;noise$\n",
    "\n",
    "$\\triangle t: \\;time \\;increment$\n",
    "\n",
    "$n_t:\\; Normal(0,1) \\;white \\;noise$"
   ]
  },
  {
   "cell_type": "code",
   "execution_count": 32,
   "id": "fbb4fac1",
   "metadata": {},
   "outputs": [],
   "source": [
    "class OrnsteinUhlenbeckNoise:\n",
    "    def __init__(self,mu):\n",
    "        self.theta,self.dt,self.sigma=0.1,0.01,0.1\n",
    "        self.mu=mu\n",
    "        self.x_prev=np.zeros_like(self.mu)\n",
    "        \n",
    "    def __call__(self):\n",
    "        x=self.x_prev+self.theta*(self.mu-self.x_prev)*self.dt+\\\n",
    "        self.sigma*np.sqrt(self.dt)*np.random.normal(size=self.mu.shape)\n",
    "        \n",
    "        self.x_prev=x\n",
    "        return x"
   ]
  },
  {
   "cell_type": "markdown",
   "id": "81bad008",
   "metadata": {},
   "source": [
    "## Policy Network and Q-Network updating\n",
    "$\\triangledown_\\theta J(\\theta)=\\sum_i^N \\triangledown_\\theta Q_{\\pi_\\theta}(s_i,\\pi_\\theta(s_i))$\n",
    "$Loss(\\phi)=\\frac {1}{2N} \\sum_{i=1}^N (r_i+\\gamma Q_{target}(s_{i+1},\\pi_{target}(s_{i+1}))-Q_\\phi(s_i))^2$\n",
    "\n",
    "## Target Policy and Q updating\n",
    "\n",
    "$\\theta`:=\\tau \\theta + (1-\\tau)\\theta`$\n",
    "\n",
    "$\\phi`:=\\tau \\phi + (1-\\tau)\\phi`$\n",
    "    "
   ]
  },
  {
   "cell_type": "code",
   "execution_count": 39,
   "id": "87ee2c55",
   "metadata": {},
   "outputs": [],
   "source": [
    "def train(mu,mu_target,q,q_target,memory,q_optimizer,mu_optimizer):\n",
    "    s,a,r,s_prime,done_mask  = memory.sample(batch_size)\n",
    "    \n",
    "    target=r+gamma*q_target(s_prime,mu_target(s_prime))*done_mask\n",
    "    q_loss=F.smooth_l1_loss(q(s,a),target.detach())\n",
    "    q_optimizer.zero_grad()\n",
    "    q_loss.backward()\n",
    "    q_optimizer.step()\n",
    "    \n",
    "    mu_loss=-q(s,mu(s)).mean()\n",
    "    mu_optimizer.zero_grad()\n",
    "    mu_loss.backward()\n",
    "    mu_optimizer.step()\n",
    "    \n",
    "    \n",
    "def soft_update(net,net_target):\n",
    "    for param_target,param in zip(net_target.parameters(),net.parameters()):\n",
    "        param_target.data.copy_(param_target.data*(1.-tau)+tau*param.data)\n",
    "    "
   ]
  },
  {
   "cell_type": "markdown",
   "id": "d8f9387b",
   "metadata": {},
   "source": [
    "# Main "
   ]
  },
  {
   "cell_type": "code",
   "execution_count": 42,
   "id": "951071e6",
   "metadata": {},
   "outputs": [],
   "source": [
    "def main():\n",
    "    env=gym.make('Pendulum-v1')\n",
    "    memory=ReplayBuffer()\n",
    "    \n",
    "    q, q_target = QNet(), QNet()\n",
    "    q_target.load_state_dict(q.state_dict())\n",
    "    \n",
    "    mu,mu_target=MuNet(),MuNet()\n",
    "    mu_target.load_state_dict(mu.state_dict())\n",
    "    \n",
    "    score=0.\n",
    "    print_interval=20\n",
    "    \n",
    "    mu_optimizer=optim.Adam(mu.parameters(),lr=lr_mu)\n",
    "    q_optimizer=optim.Adam(q.parameters(),lr=lr_q)\n",
    "    ou_noise = OrnsteinUhlenbeckNoise(mu=np.zeros(1))\n",
    "    \n",
    "    for n_epi in range(10000):\n",
    "        s=env.reset()\n",
    "        done=False\n",
    "        \n",
    "        while not done:\n",
    "            a=mu(torch.from_numpy(s).float())\n",
    "            a=a.item()+ou_noise()[0]\n",
    "            s_prime,r,done,info=env.step([a]) #numpy 로 받는다\n",
    "            memory.put((s,a,r/100.,s_prime,done))\n",
    "            score+=r\n",
    "            s=s_prime\n",
    "        #Replay buffer가 일정 크기가 될때까지 기다리고 난 후 랜덤으로 샘플을 뽑아 학습을 진행한다.\n",
    "        if memory.size()>2000:\n",
    "            for i in range(10):\n",
    "                train(mu,mu_target,q,q_target,memory,q_optimizer,mu_optimizer)\n",
    "                soft_update(mu,mu_target)\n",
    "                soft_update(q,q_target)\n",
    "                \n",
    "        if n_epi%print_interval==0 and n_epi!=0:\n",
    "            print(\"# of episode :{}, avg score : {:.1f}\".format(n_epi, score/print_interval))\n",
    "            score = 0.0\n",
    "\n",
    "    env.close()       "
   ]
  },
  {
   "cell_type": "code",
   "execution_count": null,
   "id": "92a77f83",
   "metadata": {},
   "outputs": [],
   "source": []
  },
  {
   "cell_type": "code",
   "execution_count": 41,
   "id": "e97aa041",
   "metadata": {},
   "outputs": [
    {
     "name": "stdout",
     "output_type": "stream",
     "text": [
      "# of episode :20, avg score : -1408.0\n",
      "# of episode :40, avg score : -1454.2\n",
      "# of episode :60, avg score : -1630.4\n",
      "# of episode :80, avg score : -1529.0\n",
      "# of episode :100, avg score : -1531.8\n",
      "# of episode :120, avg score : -1504.9\n",
      "# of episode :140, avg score : -1332.6\n",
      "# of episode :160, avg score : -1037.2\n",
      "# of episode :180, avg score : -1452.9\n",
      "# of episode :200, avg score : -1128.8\n",
      "# of episode :220, avg score : -1016.0\n",
      "# of episode :240, avg score : -983.2\n",
      "# of episode :260, avg score : -1017.6\n",
      "# of episode :280, avg score : -1028.3\n",
      "# of episode :300, avg score : -1015.7\n",
      "# of episode :320, avg score : -1015.4\n",
      "# of episode :340, avg score : -965.4\n",
      "# of episode :360, avg score : -954.4\n",
      "# of episode :380, avg score : -839.4\n",
      "# of episode :400, avg score : -776.3\n",
      "# of episode :420, avg score : -913.3\n",
      "# of episode :440, avg score : -885.4\n",
      "# of episode :460, avg score : -1108.7\n",
      "# of episode :480, avg score : -858.4\n",
      "# of episode :500, avg score : -813.2\n",
      "# of episode :520, avg score : -429.5\n",
      "# of episode :540, avg score : -372.3\n",
      "# of episode :560, avg score : -327.9\n",
      "# of episode :580, avg score : -605.3\n",
      "# of episode :600, avg score : -315.6\n",
      "# of episode :620, avg score : -244.3\n",
      "# of episode :640, avg score : -279.0\n",
      "# of episode :660, avg score : -252.8\n",
      "# of episode :680, avg score : -199.0\n",
      "# of episode :700, avg score : -210.1\n",
      "# of episode :720, avg score : -227.7\n",
      "# of episode :740, avg score : -158.5\n",
      "# of episode :760, avg score : -228.9\n",
      "# of episode :780, avg score : -197.1\n",
      "# of episode :800, avg score : -179.3\n",
      "# of episode :820, avg score : -199.9\n",
      "# of episode :840, avg score : -172.1\n",
      "# of episode :860, avg score : -151.0\n",
      "# of episode :880, avg score : -438.8\n",
      "# of episode :900, avg score : -316.9\n",
      "# of episode :920, avg score : -176.7\n",
      "# of episode :940, avg score : -202.8\n",
      "# of episode :960, avg score : -329.0\n",
      "# of episode :980, avg score : -198.5\n",
      "# of episode :1000, avg score : -339.8\n",
      "# of episode :1020, avg score : -177.0\n",
      "# of episode :1040, avg score : -141.1\n",
      "# of episode :1060, avg score : -131.7\n",
      "# of episode :1080, avg score : -160.5\n"
     ]
    },
    {
     "ename": "KeyboardInterrupt",
     "evalue": "",
     "output_type": "error",
     "traceback": [
      "\u001b[1;31m---------------------------------------------------------------------------\u001b[0m",
      "\u001b[1;31mKeyboardInterrupt\u001b[0m                         Traceback (most recent call last)",
      "\u001b[1;32m<ipython-input-41-c7bc734e5e35>\u001b[0m in \u001b[0;36m<module>\u001b[1;34m\u001b[0m\n\u001b[0;32m      1\u001b[0m \u001b[1;32mif\u001b[0m \u001b[0m__name__\u001b[0m \u001b[1;33m==\u001b[0m \u001b[1;34m'__main__'\u001b[0m\u001b[1;33m:\u001b[0m\u001b[1;33m\u001b[0m\u001b[1;33m\u001b[0m\u001b[0m\n\u001b[1;32m----> 2\u001b[1;33m     \u001b[0mmain\u001b[0m\u001b[1;33m(\u001b[0m\u001b[1;33m)\u001b[0m\u001b[1;33m\u001b[0m\u001b[1;33m\u001b[0m\u001b[0m\n\u001b[0m",
      "\u001b[1;32m<ipython-input-40-734f9844cbaf>\u001b[0m in \u001b[0;36mmain\u001b[1;34m()\u001b[0m\n\u001b[0;32m     30\u001b[0m         \u001b[1;32mif\u001b[0m \u001b[0mmemory\u001b[0m\u001b[1;33m.\u001b[0m\u001b[0msize\u001b[0m\u001b[1;33m(\u001b[0m\u001b[1;33m)\u001b[0m\u001b[1;33m>\u001b[0m\u001b[1;36m2000\u001b[0m\u001b[1;33m:\u001b[0m\u001b[1;33m\u001b[0m\u001b[1;33m\u001b[0m\u001b[0m\n\u001b[0;32m     31\u001b[0m             \u001b[1;32mfor\u001b[0m \u001b[0mi\u001b[0m \u001b[1;32min\u001b[0m \u001b[0mrange\u001b[0m\u001b[1;33m(\u001b[0m\u001b[1;36m10\u001b[0m\u001b[1;33m)\u001b[0m\u001b[1;33m:\u001b[0m\u001b[1;33m\u001b[0m\u001b[1;33m\u001b[0m\u001b[0m\n\u001b[1;32m---> 32\u001b[1;33m                 \u001b[0mtrain\u001b[0m\u001b[1;33m(\u001b[0m\u001b[0mmu\u001b[0m\u001b[1;33m,\u001b[0m\u001b[0mmu_target\u001b[0m\u001b[1;33m,\u001b[0m\u001b[0mq\u001b[0m\u001b[1;33m,\u001b[0m\u001b[0mq_target\u001b[0m\u001b[1;33m,\u001b[0m\u001b[0mmemory\u001b[0m\u001b[1;33m,\u001b[0m\u001b[0mq_optimizer\u001b[0m\u001b[1;33m,\u001b[0m\u001b[0mmu_optimizer\u001b[0m\u001b[1;33m)\u001b[0m\u001b[1;33m\u001b[0m\u001b[1;33m\u001b[0m\u001b[0m\n\u001b[0m\u001b[0;32m     33\u001b[0m                 \u001b[0msoft_update\u001b[0m\u001b[1;33m(\u001b[0m\u001b[0mmu\u001b[0m\u001b[1;33m,\u001b[0m\u001b[0mmu_target\u001b[0m\u001b[1;33m)\u001b[0m\u001b[1;33m\u001b[0m\u001b[1;33m\u001b[0m\u001b[0m\n\u001b[0;32m     34\u001b[0m                 \u001b[0msoft_update\u001b[0m\u001b[1;33m(\u001b[0m\u001b[0mq\u001b[0m\u001b[1;33m,\u001b[0m\u001b[0mq_target\u001b[0m\u001b[1;33m)\u001b[0m\u001b[1;33m\u001b[0m\u001b[1;33m\u001b[0m\u001b[0m\n",
      "\u001b[1;32m<ipython-input-39-436e5214dd13>\u001b[0m in \u001b[0;36mtrain\u001b[1;34m(mu, mu_target, q, q_target, memory, q_optimizer, mu_optimizer)\u001b[0m\n\u001b[0;32m     10\u001b[0m     \u001b[0mmu_loss\u001b[0m\u001b[1;33m=\u001b[0m\u001b[1;33m-\u001b[0m\u001b[0mq\u001b[0m\u001b[1;33m(\u001b[0m\u001b[0ms\u001b[0m\u001b[1;33m,\u001b[0m\u001b[0mmu\u001b[0m\u001b[1;33m(\u001b[0m\u001b[0ms\u001b[0m\u001b[1;33m)\u001b[0m\u001b[1;33m)\u001b[0m\u001b[1;33m.\u001b[0m\u001b[0mmean\u001b[0m\u001b[1;33m(\u001b[0m\u001b[1;33m)\u001b[0m\u001b[1;33m\u001b[0m\u001b[1;33m\u001b[0m\u001b[0m\n\u001b[0;32m     11\u001b[0m     \u001b[0mmu_optimizer\u001b[0m\u001b[1;33m.\u001b[0m\u001b[0mzero_grad\u001b[0m\u001b[1;33m(\u001b[0m\u001b[1;33m)\u001b[0m\u001b[1;33m\u001b[0m\u001b[1;33m\u001b[0m\u001b[0m\n\u001b[1;32m---> 12\u001b[1;33m     \u001b[0mmu_loss\u001b[0m\u001b[1;33m.\u001b[0m\u001b[0mbackward\u001b[0m\u001b[1;33m(\u001b[0m\u001b[1;33m)\u001b[0m\u001b[1;33m\u001b[0m\u001b[1;33m\u001b[0m\u001b[0m\n\u001b[0m\u001b[0;32m     13\u001b[0m     \u001b[0mmu_optimizer\u001b[0m\u001b[1;33m.\u001b[0m\u001b[0mstep\u001b[0m\u001b[1;33m(\u001b[0m\u001b[1;33m)\u001b[0m\u001b[1;33m\u001b[0m\u001b[1;33m\u001b[0m\u001b[0m\n\u001b[0;32m     14\u001b[0m \u001b[1;33m\u001b[0m\u001b[0m\n",
      "\u001b[1;32m~\\anaconda3\\lib\\site-packages\\torch\\_tensor.py\u001b[0m in \u001b[0;36mbackward\u001b[1;34m(self, gradient, retain_graph, create_graph, inputs)\u001b[0m\n\u001b[0;32m    305\u001b[0m                 \u001b[0mcreate_graph\u001b[0m\u001b[1;33m=\u001b[0m\u001b[0mcreate_graph\u001b[0m\u001b[1;33m,\u001b[0m\u001b[1;33m\u001b[0m\u001b[1;33m\u001b[0m\u001b[0m\n\u001b[0;32m    306\u001b[0m                 inputs=inputs)\n\u001b[1;32m--> 307\u001b[1;33m         \u001b[0mtorch\u001b[0m\u001b[1;33m.\u001b[0m\u001b[0mautograd\u001b[0m\u001b[1;33m.\u001b[0m\u001b[0mbackward\u001b[0m\u001b[1;33m(\u001b[0m\u001b[0mself\u001b[0m\u001b[1;33m,\u001b[0m \u001b[0mgradient\u001b[0m\u001b[1;33m,\u001b[0m \u001b[0mretain_graph\u001b[0m\u001b[1;33m,\u001b[0m \u001b[0mcreate_graph\u001b[0m\u001b[1;33m,\u001b[0m \u001b[0minputs\u001b[0m\u001b[1;33m=\u001b[0m\u001b[0minputs\u001b[0m\u001b[1;33m)\u001b[0m\u001b[1;33m\u001b[0m\u001b[1;33m\u001b[0m\u001b[0m\n\u001b[0m\u001b[0;32m    308\u001b[0m \u001b[1;33m\u001b[0m\u001b[0m\n\u001b[0;32m    309\u001b[0m     \u001b[1;32mdef\u001b[0m \u001b[0mregister_hook\u001b[0m\u001b[1;33m(\u001b[0m\u001b[0mself\u001b[0m\u001b[1;33m,\u001b[0m \u001b[0mhook\u001b[0m\u001b[1;33m)\u001b[0m\u001b[1;33m:\u001b[0m\u001b[1;33m\u001b[0m\u001b[1;33m\u001b[0m\u001b[0m\n",
      "\u001b[1;32m~\\anaconda3\\lib\\site-packages\\torch\\autograd\\__init__.py\u001b[0m in \u001b[0;36mbackward\u001b[1;34m(tensors, grad_tensors, retain_graph, create_graph, grad_variables, inputs)\u001b[0m\n\u001b[0;32m    152\u001b[0m         \u001b[0mretain_graph\u001b[0m \u001b[1;33m=\u001b[0m \u001b[0mcreate_graph\u001b[0m\u001b[1;33m\u001b[0m\u001b[1;33m\u001b[0m\u001b[0m\n\u001b[0;32m    153\u001b[0m \u001b[1;33m\u001b[0m\u001b[0m\n\u001b[1;32m--> 154\u001b[1;33m     Variable._execution_engine.run_backward(\n\u001b[0m\u001b[0;32m    155\u001b[0m         \u001b[0mtensors\u001b[0m\u001b[1;33m,\u001b[0m \u001b[0mgrad_tensors_\u001b[0m\u001b[1;33m,\u001b[0m \u001b[0mretain_graph\u001b[0m\u001b[1;33m,\u001b[0m \u001b[0mcreate_graph\u001b[0m\u001b[1;33m,\u001b[0m \u001b[0minputs\u001b[0m\u001b[1;33m,\u001b[0m\u001b[1;33m\u001b[0m\u001b[1;33m\u001b[0m\u001b[0m\n\u001b[0;32m    156\u001b[0m         allow_unreachable=True, accumulate_grad=True)  # allow_unreachable flag\n",
      "\u001b[1;31mKeyboardInterrupt\u001b[0m: "
     ]
    }
   ],
   "source": [
    "if __name__ == '__main__':\n",
    "    main()"
   ]
  },
  {
   "cell_type": "code",
   "execution_count": null,
   "id": "e69cb667",
   "metadata": {},
   "outputs": [],
   "source": []
  },
  {
   "cell_type": "code",
   "execution_count": null,
   "id": "4a0c678f",
   "metadata": {},
   "outputs": [],
   "source": []
  },
  {
   "cell_type": "code",
   "execution_count": null,
   "id": "c396605a",
   "metadata": {},
   "outputs": [],
   "source": []
  }
 ],
 "metadata": {
  "kernelspec": {
   "display_name": "Python 3",
   "language": "python",
   "name": "python3"
  },
  "language_info": {
   "codemirror_mode": {
    "name": "ipython",
    "version": 3
   },
   "file_extension": ".py",
   "mimetype": "text/x-python",
   "name": "python",
   "nbconvert_exporter": "python",
   "pygments_lexer": "ipython3",
   "version": "3.8.8"
  }
 },
 "nbformat": 4,
 "nbformat_minor": 5
}
